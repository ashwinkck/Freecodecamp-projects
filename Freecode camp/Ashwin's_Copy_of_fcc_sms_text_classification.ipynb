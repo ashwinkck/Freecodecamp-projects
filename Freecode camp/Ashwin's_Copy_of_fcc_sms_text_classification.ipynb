{
  "cells": [
    {
      "cell_type": "code",
      "execution_count": null,
      "metadata": {
        "id": "8RZOuS9LWQvv"
      },
      "outputs": [],
      "source": [
        "!pip install -q git+https://github.com/tensorflow/docs\n",
        "import tensorflow as tf\n",
        "from tensorflow import keras\n",
        "from tensorflow.keras import layers\n",
        "import tensorflow_docs as tfdocs\n",
        "import tensorflow_docs.plots\n",
        "import tensorflow_docs.modeling\n",
        "\n",
        "import pandas as pd\n",
        "import numpy as np\n",
        "import matplotlib.pyplot as plt\n"
      ]
    },
    {
      "cell_type": "code",
      "execution_count": null,
      "metadata": {
        "id": "lMHwYXHXCar3"
      },
      "outputs": [],
      "source": [
        "# Download and load the SMS spam dataset\n",
        "!wget -q https://cdn.freecodecamp.org/project-data/sms-text-classification/train-data.tsv\n",
        "!wget -q https://cdn.freecodecamp.org/project-data/sms-text-classification/valid-data.tsv\n",
        "\n",
        "train_df = pd.read_csv('train-data.tsv', sep='\\t', header=None, names=['label', 'message'])\n",
        "valid_df = pd.read_csv('valid-data.tsv', sep='\\t', header=None, names=['label', 'message'])\n"
      ]
    },
    {
      "cell_type": "code",
      "execution_count": null,
      "metadata": {
        "id": "g_h508FEClxO"
      },
      "outputs": [],
      "source": [
        "# Map labels to 0/1\n",
        "label_map = {'ham': 0, 'spam': 1}\n",
        "train_df['label'] = train_df['label'].map(label_map)\n",
        "valid_df['label'] = valid_df['label'].map(label_map)\n",
        "\n",
        "# Split features and labels\n",
        "X_train = train_df['message']\n",
        "y_train = train_df['label'].values\n",
        "X_valid = valid_df['message']\n",
        "y_valid = valid_df['label'].values\n"
      ]
    },
    {
      "cell_type": "code",
      "execution_count": null,
      "metadata": {
        "id": "zOMKywn4zReN"
      },
      "outputs": [],
      "source": [
        "# TextVectorization layer\n",
        "max_features = 10000\n",
        "sequence_length = 100\n",
        "\n",
        "vectorize_layer = layers.TextVectorization(\n",
        "    max_tokens=max_features,\n",
        "    output_mode='int',\n",
        "    output_sequence_length=sequence_length\n",
        ")\n",
        "\n",
        "# Learn the vocabulary from training data\n",
        "vectorize_layer.adapt(X_train.values)\n"
      ]
    },
    {
      "cell_type": "code",
      "execution_count": null,
      "metadata": {
        "id": "J9tD9yACG6M9"
      },
      "outputs": [],
      "source": [
        "# Vectorize text\n",
        "X_train_vect = vectorize_layer(X_train.values)\n",
        "X_valid_vect = vectorize_layer(X_valid.values)\n",
        "\n",
        "# Build tf.data.Dataset objects\n",
        "batch_size = 32\n",
        "train_ds = tf.data.Dataset.from_tensor_slices((X_train_vect, y_train)) \\\n",
        "             .shuffle(10000).batch(batch_size).prefetch(tf.data.AUTOTUNE)\n",
        "valid_ds = tf.data.Dataset.from_tensor_slices((X_valid_vect, y_valid)) \\\n",
        "             .batch(batch_size).prefetch(tf.data.AUTOTUNE)\n"
      ]
    },
    {
      "cell_type": "code",
      "execution_count": null,
      "metadata": {
        "id": "Dxotov85SjsC"
      },
      "outputs": [],
      "source": [
        "model = keras.Sequential([\n",
        "    layers.Embedding(input_dim=max_features + 1, output_dim=16),\n",
        "    layers.GlobalAveragePooling1D(),\n",
        "    layers.Dense(16, activation='relu'),\n",
        "    layers.Dense(1, activation='sigmoid')\n",
        "])\n",
        "\n",
        "model.compile(\n",
        "    optimizer='adam',\n",
        "    loss='binary_crossentropy',\n",
        "    metrics=['accuracy']\n",
        ")\n",
        "\n",
        "model.summary()\n"
      ]
    },
    {
      "cell_type": "code",
      "source": [
        "history = model.fit(\n",
        "    train_ds,\n",
        "    validation_data=valid_ds,\n",
        "    epochs=10,\n",
        "    verbose=1\n",
        ")\n"
      ],
      "metadata": {
        "id": "1xMelbus2EAk"
      },
      "execution_count": null,
      "outputs": []
    },
    {
      "cell_type": "code",
      "source": [
        "def predict_message(message):\n",
        "    \"\"\"\n",
        "    Returns [spam_probability (float), label (str)]\n",
        "    \"\"\"\n",
        "    # Vectorize input\n",
        "    msg_vect = vectorize_layer(tf.convert_to_tensor([message]))\n",
        "    # Predict\n",
        "    prob = float(model.predict(msg_vect)[0][0])\n",
        "    label = 'spam' if prob > 0.5 else 'ham'\n",
        "    return [prob, label]\n",
        "\n",
        "# Quick sanity check\n",
        "print(predict_message(\"Congratulations! You've won a free lottery ticket.\"))\n",
        "print(predict_message(\"Hey, are we still meeting for lunch today?\"))\n"
      ],
      "metadata": {
        "id": "X78pKpgL2F51"
      },
      "execution_count": null,
      "outputs": []
    },
    {
      "cell_type": "code",
      "source": [
        "# RUN THIS CELL TO TEST YOUR MODEL. DO NOT MODIFY CONTENTS.\n",
        "loss, accuracy = model.evaluate(valid_ds, verbose=2)\n",
        "print(f\"Validation accuracy: {accuracy:.2%}\")\n",
        "\n",
        "# (The notebook’s built‑in tests will now check your predict_message function.)\n"
      ],
      "metadata": {
        "id": "JqlIkwYg2OJi"
      },
      "execution_count": null,
      "outputs": []
    },
    {
      "cell_type": "code",
      "source": [
        "# 🚨 RUN THIS CELL TO TEST YOUR FUNCTION AND MODEL. DO NOT MODIFY CONTENTS. 🚨\n",
        "def test_predictions():\n",
        "    test_messages = [\n",
        "        \"how are you doing today\",\n",
        "        \"sale today! to stop texts call 98912460324\",\n",
        "        \"i dont want to go. can we try it a different day? available sat\",\n",
        "        \"our new mobile video service is live. just install on your phone to start watching.\",\n",
        "        \"you have won £1000 cash! call to claim your prize.\",\n",
        "        \"i'll bring it tomorrow. don't forget the milk.\",\n",
        "        \"wow, is your arm alright. that happened to me one time too\"\n",
        "    ]\n",
        "\n",
        "    test_answers = [\"ham\", \"spam\", \"ham\", \"spam\", \"spam\", \"ham\", \"ham\"]\n",
        "\n",
        "    passed = True\n",
        "    for msg, ans in zip(test_messages, test_answers):\n",
        "        prediction = predict_message(msg)\n",
        "        print(f\"Input: {msg!r}\\n → Predicted: {prediction}\\n\")\n",
        "        if prediction[1] != ans:\n",
        "            passed = False\n",
        "\n",
        "    if passed:\n",
        "        print(\"You passed the challenge. Great job!\")\n",
        "    else:\n",
        "        print(\"You haven't passed yet. Keep trying.\")\n",
        "\n",
        "test_predictions()\n"
      ],
      "metadata": {
        "id": "D6zQkJeF3XZj"
      },
      "execution_count": null,
      "outputs": []
    }
  ],
  "metadata": {
    "colab": {
      "private_outputs": true,
      "provenance": [],
      "toc_visible": true,
      "gpuType": "T4"
    },
    "kernelspec": {
      "display_name": "Python 3",
      "name": "python3"
    },
    "language_info": {},
    "accelerator": "GPU"
  },
  "nbformat": 4,
  "nbformat_minor": 0
}